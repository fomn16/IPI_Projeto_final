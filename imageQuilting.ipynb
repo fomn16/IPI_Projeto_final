{
 "cells": [
  {
   "cell_type": "code",
   "execution_count": 171,
   "metadata": {},
   "outputs": [],
   "source": [
    "import cv2 as cv\n",
    "from enum import Enum\n",
    "import numpy as np\n",
    "import builtins"
   ]
  },
  {
   "cell_type": "markdown",
   "metadata": {},
   "source": [
    "computeErrorSurface:\n",
    "    img1 is always on top or on left of img2."
   ]
  },
  {
   "cell_type": "code",
   "execution_count": 172,
   "metadata": {},
   "outputs": [],
   "source": [
    "class Direction(Enum):\n",
    "    VERTICAL = 0\n",
    "    HORIZONTAL = 1"
   ]
  },
  {
   "cell_type": "code",
   "execution_count": 173,
   "metadata": {},
   "outputs": [],
   "source": [
    "def computeErrorSurface(img1, img2, boundarySize: int, direction: Direction):\n",
    "    border1 = border2 = None\n",
    "    if direction == Direction.HORIZONTAL:\n",
    "        border1 = img1[-boundarySize-1:-1,:]\n",
    "        border2 = img2[0:boundarySize,:]\n",
    "    else:\n",
    "        border1 = img1[:,-boundarySize-1:-1]\n",
    "        border2 = img2[:,0:boundarySize]\n",
    "\n",
    "    diff = np.subtract(border1, border2)\n",
    "\n",
    "    squareDiff = np.square(diff)\n",
    "\n",
    "    ret = np.zeros((squareDiff.shape[0], squareDiff.shape[1]),dtype=np.uint32)\n",
    "\n",
    "    for i in range(ret.shape[0]):\n",
    "        for j in range(ret.shape[1]):\n",
    "            ret[i,j] = np.sum(squareDiff[i,j])\n",
    "\n",
    "    ret = np.sqrt(ret)\n",
    "    return cv.normalize(ret,None, alpha=0, beta=255, norm_type=cv.NORM_MINMAX, dtype=cv.CV_8U)\n"
   ]
  },
  {
   "cell_type": "code",
   "execution_count": 174,
   "metadata": {},
   "outputs": [],
   "source": [
    "def verticalNeighbors(currentPos, errorBoundary):\n",
    "\n",
    "    neighbors = []\n",
    "\n",
    "    if(currentPos[0] != errorBoundary.shape[0]):\n",
    "        neighbors.append((currentPos[0] - 1, currentPos[1]))\n",
    "        if(currentPos[1] != 0):\n",
    "            neighbors.append((currentPos[0] - 1, currentPos[1] - 1))\n",
    "        if(currentPos[1] != errorBoundary.shape[1] - 1):\n",
    "            neighbors.append((currentPos[0] - 1, currentPos[1] + 1))\n",
    "    else:\n",
    "        for i in range(errorBoundary.shape[1]):\n",
    "            neighbors.append((currentPos[0] - 1, i))\n",
    "\n",
    "    return neighbors\n",
    "\n",
    "def horizontalNeighbors(currentPos, errorBoundary):\n",
    "\n",
    "    neighbors = []\n",
    "\n",
    "    if(currentPos[1] != errorBoundary.shape[1]):\n",
    "        neighbors.append((currentPos[0], currentPos[1] - 1))\n",
    "        if(currentPos[0] != 0):\n",
    "            neighbors.append((currentPos[0] - 1, currentPos[1] - 1))\n",
    "        if(currentPos[0] != errorBoundary.shape[0] - 1):\n",
    "            neighbors.append((currentPos[0] + 1, currentPos[1] - 1))\n",
    "    else:\n",
    "        for i in range(errorBoundary.shape[0]):\n",
    "            neighbors.append((i, currentPos[1] - 1))\n",
    "\n",
    "    return neighbors"
   ]
  },
  {
   "cell_type": "code",
   "execution_count": 175,
   "metadata": {},
   "outputs": [],
   "source": [
    "# function heavily inspired by Ben Alex Keen's implementation: https://benalexkeen.com/implementing-djikstras-shortest-path-algorithm-with-python/\n",
    "def minimumBoundaryCutDjikstras(errorBoundary, direction: Direction):\n",
    "    dirIndex = direction.value\n",
    "    invDirIndex = (direction.value + 1) % 2\n",
    "    initial = [0,0]\n",
    "    initial[dirIndex] = errorBoundary.shape[dirIndex]\n",
    "    initial = tuple(initial)\n",
    "    \n",
    "    neighborFunction = verticalNeighbors\n",
    "\n",
    "    if(direction == Direction.HORIZONTAL):\n",
    "        neighborFunction = horizontalNeighbors\n",
    "\n",
    "    shortestPaths = {initial: (None, 0)}\n",
    "    currentNode = initial\n",
    "    visited = set()\n",
    "    \n",
    "    while currentNode[dirIndex] != 0:\n",
    "        visited.add(currentNode)\n",
    "        destinations = neighborFunction(currentNode, errorBoundary)\n",
    "        weightToCurrentNode = shortestPaths[currentNode][1]\n",
    "\n",
    "        for nextNode in destinations:\n",
    "            weight = errorBoundary[nextNode[0], nextNode[1]] + weightToCurrentNode\n",
    "            if nextNode not in shortestPaths:\n",
    "                shortestPaths[nextNode] = (currentNode, weight)\n",
    "            else:\n",
    "                currentShortestWeight = shortestPaths[nextNode][1]\n",
    "                if currentShortestWeight > weight:\n",
    "                    shortestPaths[nextNode] = (currentNode, weight)\n",
    "        \n",
    "        nextDestinations = {node: shortestPaths[node] for node in shortestPaths if node not in visited}\n",
    "        currentNode = builtins.min(nextDestinations, key=lambda k: nextDestinations[k][1])\n",
    "    \n",
    "    path = []\n",
    "    while currentNode is not None:\n",
    "        path.append(currentNode[invDirIndex])\n",
    "        nextNode = shortestPaths[currentNode][0]\n",
    "        currentNode = nextNode\n",
    "\n",
    "    return path[:-1]"
   ]
  },
  {
   "cell_type": "code",
   "execution_count": 176,
   "metadata": {},
   "outputs": [],
   "source": [
    "def show(names, imgs, scaling = 1):\n",
    "    for i in range(len(names)):\n",
    "        cv.imshow(names[i], cv.resize(imgs[i], (imgs[i].shape[1] * scaling, imgs[i].shape[0] * scaling)))\n",
    "    cv.waitKey(0)\n",
    "    cv.destroyAllWindows()"
   ]
  },
  {
   "cell_type": "code",
   "execution_count": 177,
   "metadata": {},
   "outputs": [],
   "source": [
    "def computeMinimumBoundaryCut(img1, img2, boundarySize, direction):\n",
    "    e = computeErrorSurface(img1, img2, boundarySize, direction)\n",
    "    minBCut = minimumBoundaryCutDjikstras(e, direction)\n",
    "    return (e,minBCut)"
   ]
  },
  {
   "cell_type": "code",
   "execution_count": 178,
   "metadata": {},
   "outputs": [],
   "source": [
    "def join(cutUp, cutLeft, boundarySize):\n",
    "    for i in range(boundarySize,0,-1):\n",
    "        if(cutUp[i] != cutLeft[i]):\n",
    "            cutUp[i] = cutLeft[i] = max(cutUp[i], cutLeft[i])\n",
    "        else:\n",
    "            return"
   ]
  },
  {
   "cell_type": "code",
   "execution_count": 179,
   "metadata": {},
   "outputs": [],
   "source": [
    "def applyWithMask(fullImg, patch, position, boundarySize, cutUp = None, cutLeft = None):\n",
    "    size = patch.shape[0] - boundarySize\n",
    "    pixelPosition = [position[0]*size, position[1]*size]\n",
    "    \n",
    "    patchForPasting = patch.copy()\n",
    "\n",
    "    if(cutUp != None and cutLeft != None):\n",
    "        join(cutUp, cutLeft, boundarySize)\n",
    "\n",
    "    if(cutUp != None):\n",
    "        for i in range(patch.shape[0]):\n",
    "            patchForPasting[:cutUp[i],i] = 0\n",
    "            fullImg[pixelPosition[0] + cutUp[i]:pixelPosition[0] + boundarySize, pixelPosition[1] + i] = 0\n",
    "\n",
    "    if(cutLeft != None):\n",
    "        for i in range(patch.shape[0]):\n",
    "            patchForPasting[i,:cutLeft[i]] = 0\n",
    "            fullImg[pixelPosition[0] + i, pixelPosition[1] + cutLeft[i]:pixelPosition[1] + boundarySize] = 0\n",
    "\n",
    "    fullImg[pixelPosition[0]:pixelPosition[0] + patch.shape[0], pixelPosition[1]:pixelPosition[1] + patch.shape[1]] += patchForPasting"
   ]
  },
  {
   "cell_type": "code",
   "execution_count": 180,
   "metadata": {},
   "outputs": [],
   "source": [
    "#img1 = cv.imread(\"math1.jfif\", cv.IMREAD_COLOR)\n",
    "#img2 = cv.imread(\"math2.jpg\", cv.IMREAD_COLOR)\n",
    "\n",
    "img2 = cv.imread(\"img1.jpg\", cv.IMREAD_COLOR)\n",
    "img1 = cv.imread(\"img2.png\", cv.IMREAD_COLOR)\n",
    "\n",
    "borderSize = 50\n",
    "\n",
    "e, minBCut = computeMinimumBoundaryCut(img1, img2, borderSize, Direction.VERTICAL)\n",
    "_, minBCut2 = computeMinimumBoundaryCut(img1, img2, borderSize, Direction.HORIZONTAL)\n",
    "_, minBCut3 = computeMinimumBoundaryCut(img2, img1, borderSize, Direction.VERTICAL)\n",
    "_, minBCut4 = computeMinimumBoundaryCut(img2, img1, borderSize, Direction.HORIZONTAL)\n",
    "\n",
    "minBCut3d = cv.merge((e,e,e))\n",
    "for i in range(minBCut3d.shape[0]):\n",
    "    minBCut3d[i, minBCut[i]] = [0,255,0]\n",
    "\n",
    "cellSize = img1.shape[0] - borderSize\n",
    "canvas = np.zeros((cellSize*2 + borderSize, cellSize*2 + borderSize, 3), dtype=np.uint8)\n",
    "\n",
    "applyWithMask(canvas, img1, (0,0), borderSize)\n",
    "applyWithMask(canvas, img2, (0,1), borderSize, cutLeft=minBCut)\n",
    "applyWithMask(canvas, img2, (1,0), borderSize, cutUp=minBCut2)\n",
    "applyWithMask(canvas, img1, (1,1), borderSize, cutLeft = minBCut3, cutUp=minBCut4)\n",
    "\n",
    "show([\"image 1\", \"image 2\", \"boundary error\", \"boundary cut\", \"canvas\"], [img1, img2, e, minBCut3d, canvas], 2)"
   ]
  }
 ],
 "metadata": {
  "interpreter": {
   "hash": "9868c5b6e0ca526c7e6a4d00153652fb4847ae9eb0770cba91422c0bf7b51d41"
  },
  "kernelspec": {
   "display_name": "Python 3.9.7 64-bit (windows store)",
   "name": "python3"
  },
  "language_info": {
   "codemirror_mode": {
    "name": "ipython",
    "version": 3
   },
   "file_extension": ".py",
   "mimetype": "text/x-python",
   "name": "python",
   "nbconvert_exporter": "python",
   "pygments_lexer": "ipython3",
   "version": "3.9.7"
  },
  "orig_nbformat": 4
 },
 "nbformat": 4,
 "nbformat_minor": 2
}
