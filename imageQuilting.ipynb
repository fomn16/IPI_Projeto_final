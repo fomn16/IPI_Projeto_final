{
 "cells": [
  {
   "cell_type": "code",
   "execution_count": 54,
   "metadata": {},
   "outputs": [],
   "source": [
    "import cv2 as cv\n",
    "from enum import Enum\n",
    "import numpy as np\n",
    "import builtins"
   ]
  },
  {
   "cell_type": "markdown",
   "metadata": {},
   "source": [
    "computeErrorSurface:\n",
    "    img1 is always on top or on left of img2."
   ]
  },
  {
   "cell_type": "code",
   "execution_count": 55,
   "metadata": {},
   "outputs": [],
   "source": [
    "class Direction(Enum):\n",
    "    VERTICAL = 0\n",
    "    HORIZONTAL = 1"
   ]
  },
  {
   "cell_type": "code",
   "execution_count": 56,
   "metadata": {},
   "outputs": [],
   "source": [
    "def computeErrorSurface(img1, img2, boundarySize: int, direction: Direction):\n",
    "    border1 = border2 = None\n",
    "    if direction == Direction.HORIZONTAL:\n",
    "        border1 = img1[-boundarySize-1:-1,:]\n",
    "        border2 = img2[0:boundarySize,:]\n",
    "    else:\n",
    "        border1 = img1[:,-boundarySize-1:-1]\n",
    "        border2 = img2[:,0:boundarySize]\n",
    "\n",
    "    diff = np.subtract(border1, border2)\n",
    "\n",
    "    squareDiff = np.square(diff)\n",
    "\n",
    "    ret = np.zeros((squareDiff.shape[0], squareDiff.shape[1]),dtype=np.uint32)\n",
    "\n",
    "    for i in range(ret.shape[0]):\n",
    "        for j in range(ret.shape[1]):\n",
    "            ret[i,j] = np.sum(squareDiff[i,j])\n",
    "\n",
    "    ret = np.sqrt(ret)\n",
    "    return cv.normalize(ret,None, alpha=0, beta=255, norm_type=cv.NORM_MINMAX, dtype=cv.CV_8U)\n"
   ]
  },
  {
   "cell_type": "code",
   "execution_count": 57,
   "metadata": {},
   "outputs": [],
   "source": [
    "def verticalNeighbors(currentPos, errorBoundary):\n",
    "\n",
    "    neighbors = []\n",
    "\n",
    "    if(currentPos[0] != errorBoundary.shape[0]):\n",
    "        neighbors.append((currentPos[0] - 1, currentPos[1]))\n",
    "        if(currentPos[1] != 0):\n",
    "            neighbors.append((currentPos[0] - 1, currentPos[1] - 1))\n",
    "        if(currentPos[1] != errorBoundary.shape[1] - 1):\n",
    "            neighbors.append((currentPos[0] - 1, currentPos[1] + 1))\n",
    "    else:\n",
    "        for i in range(errorBoundary.shape[1]):\n",
    "            neighbors.append((currentPos[0] - 1, i))\n",
    "\n",
    "    return neighbors\n",
    "\n",
    "def horizontalNeighbors(currentPos, errorBoundary):\n",
    "\n",
    "    neighbors = []\n",
    "\n",
    "    if(currentPos[1] != errorBoundary.shape[1]):\n",
    "        neighbors.append((currentPos[0], currentPos[1] - 1))\n",
    "        if(currentPos[0] != 0):\n",
    "            neighbors.append((currentPos[0] - 1, currentPos[1] - 1))\n",
    "        if(currentPos[0] != errorBoundary.shape[0] - 1):\n",
    "            neighbors.append((currentPos[0] + 1, currentPos[1] - 1))\n",
    "    else:\n",
    "        for i in range(errorBoundary.shape[0]):\n",
    "            neighbors.append((i, currentPos[1] - 1))\n",
    "\n",
    "    return neighbors"
   ]
  },
  {
   "cell_type": "code",
   "execution_count": 58,
   "metadata": {},
   "outputs": [],
   "source": [
    "# function heavily inspired by Ben Alex Keen's implementation: https://benalexkeen.com/implementing-djikstras-shortest-path-algorithm-with-python/\n",
    "def minimumBoundaryCutDjikstras(errorBoundary, direction: Direction):\n",
    "    dirIndex = direction.value\n",
    "    invDirIndex = (direction.value + 1) % 2\n",
    "    initial = [0,0]\n",
    "    initial[dirIndex] = errorBoundary.shape[dirIndex]\n",
    "    initial = tuple(initial)\n",
    "    \n",
    "    neighborFunction = verticalNeighbors\n",
    "\n",
    "    if(direction == Direction.HORIZONTAL):\n",
    "        neighborFunction = horizontalNeighbors\n",
    "\n",
    "    shortestPaths = {initial: (None, 0)}\n",
    "    currentNode = initial\n",
    "    visited = set()\n",
    "    \n",
    "    while currentNode[dirIndex] != 0:\n",
    "        visited.add(currentNode)\n",
    "        destinations = neighborFunction(currentNode, errorBoundary)\n",
    "        weightToCurrentNode = shortestPaths[currentNode][1]\n",
    "\n",
    "        for nextNode in destinations:\n",
    "            weight = errorBoundary[nextNode[0], nextNode[1]] + weightToCurrentNode\n",
    "            if nextNode not in shortestPaths:\n",
    "                shortestPaths[nextNode] = (currentNode, weight)\n",
    "            else:\n",
    "                currentShortestWeight = shortestPaths[nextNode][1]\n",
    "                if currentShortestWeight > weight:\n",
    "                    shortestPaths[nextNode] = (currentNode, weight)\n",
    "        \n",
    "        nextDestinations = {node: shortestPaths[node] for node in shortestPaths if node not in visited}\n",
    "        currentNode = builtins.min(nextDestinations, key=lambda k: nextDestinations[k][1])\n",
    "    \n",
    "    path = []\n",
    "    while currentNode is not None:\n",
    "        path.append(currentNode[invDirIndex])\n",
    "        nextNode = shortestPaths[currentNode][0]\n",
    "        currentNode = nextNode\n",
    "\n",
    "    return path[:-1]"
   ]
  },
  {
   "cell_type": "code",
   "execution_count": 59,
   "metadata": {},
   "outputs": [],
   "source": [
    "def show(names, imgs, scaling = 1):\n",
    "    for i in range(len(names)):\n",
    "        cv.imshow(names[i], cv.resize(imgs[i], (imgs[i].shape[1] * scaling, imgs[i].shape[0] * scaling)))\n",
    "    cv.waitKey(0)\n",
    "    cv.destroyAllWindows()"
   ]
  },
  {
   "cell_type": "code",
   "execution_count": 60,
   "metadata": {},
   "outputs": [],
   "source": [
    "def applyWithMask(fullImg, patch, position, boundarySize, cutUp = None, cutLeft = None):\n",
    "    size = patch.shape[0] - boundarySize\n",
    "    pixelPosition = [position[0]*size, position[1]*size]\n",
    "    \n",
    "    patchForPasting = cv.cvtColor(patch, cv.COLOR_RGB2RGBA)\n",
    "    \n",
    "    patchForPasting[:,:,3] = 255\n",
    "    \n",
    "    if(cutUp != None):\n",
    "        for i in range(patch.shape[0]):\n",
    "            patchForPasting[:cutUp[i],i,3] = 0\n",
    "\n",
    "    if(cutLeft != None):\n",
    "        for i in range(patch.shape[0]):\n",
    "            patchForPasting[i,:cutLeft[i],3] = 0\n",
    "  \n",
    "    fullImg[pixelPosition[0]:pixelPosition[0] + patch.shape[0], pixelPosition[1]:pixelPosition[1] + patch.shape[1]]  = fullImg[pixelPosition[0]:pixelPosition[0] + patch.shape[0], pixelPosition[1]:pixelPosition[1] + patch.shape[1]] * (1 - patchForPasting[:, :, 3:] / 255) + patchForPasting[:, :, :3]  * (patchForPasting[:, :, 3:] / 255)\n",
    "    return fullImg"
   ]
  },
  {
   "cell_type": "code",
   "execution_count": 61,
   "metadata": {},
   "outputs": [],
   "source": [
    "def computeMinimumBoundaryCut(currentImg, boundarySize, upImg = None, leftImg = None):\n",
    "    errorBoundaries = [(None, None), (None, None)]\n",
    "\n",
    "    if(upImg is not None):\n",
    "        e = computeErrorSurface(upImg, currentImg, boundarySize, Direction.HORIZONTAL)\n",
    "        errorBoundaries[Direction.HORIZONTAL.value] = e\n",
    "\n",
    "    if(leftImg is not None):\n",
    "        e = computeErrorSurface(leftImg, currentImg, boundarySize, Direction.VERTICAL)\n",
    "        errorBoundaries[Direction.VERTICAL.value] = e\n",
    "\n",
    "    if(errorBoundaries[0][0] is not None and errorBoundaries[1][0] is not None):\n",
    "        minima = np.minimum(errorBoundaries[0][:boundarySize, :boundarySize], errorBoundaries[1][:boundarySize, :boundarySize])\n",
    "        errorBoundaries[0][:boundarySize, :boundarySize] = errorBoundaries[1][:boundarySize, :boundarySize] = minima\n",
    "\n",
    "    if(upImg is not None):\n",
    "        e = errorBoundaries[Direction.HORIZONTAL.value]\n",
    "        minCut = minimumBoundaryCutDjikstras(e, Direction.HORIZONTAL)\n",
    "        errorBoundaries[Direction.HORIZONTAL.value] = (minCut, e)\n",
    "\n",
    "    if(leftImg is not None):\n",
    "        e = errorBoundaries[Direction.VERTICAL.value]\n",
    "        minCut = minimumBoundaryCutDjikstras(e, Direction.VERTICAL)\n",
    "        errorBoundaries[Direction.VERTICAL.value] = (minCut, e)\n",
    "\n",
    "    return errorBoundaries"
   ]
  },
  {
   "cell_type": "code",
   "execution_count": 62,
   "metadata": {},
   "outputs": [],
   "source": [
    "def getCutImage(errorSurface, cut, index):\n",
    "    cutImage = cv.merge((errorSurface,errorSurface,errorSurface))\n",
    "    for i in range(cutImage.shape[index]):\n",
    "        cutImage[i, cut[i]] = [0,255,0]\n",
    "    return cutImage"
   ]
  },
  {
   "cell_type": "code",
   "execution_count": 63,
   "metadata": {},
   "outputs": [],
   "source": [
    "img2 = cv.imread(\"img1.jpg\", cv.IMREAD_COLOR)\n",
    "img1 = cv.imread(\"img2.png\", cv.IMREAD_COLOR)\n",
    "\n",
    "gridSize = 4\n",
    "borderSize = 10\n",
    "cellSize = img1.shape[0] - borderSize\n",
    "canvas = np.zeros((cellSize*gridSize + borderSize, cellSize*gridSize + borderSize, 3), dtype=np.uint8)\n",
    "\n",
    "patches = [img1, img2]\n",
    "grid = [[1, 0, 1, 0],[0, 1, 1, 0],[1, 0, 0, 1],[0, 1, 0, 1]]\n",
    "\n",
    "cuts = {}"
   ]
  },
  {
   "cell_type": "code",
   "execution_count": 64,
   "metadata": {},
   "outputs": [
    {
     "name": "stdout",
     "output_type": "stream",
     "text": [
      "(0, 0)\n",
      "(0, 1)\n",
      "(0, 2)\n",
      "(1, 0)\n",
      "(1, 1)\n",
      "(1, 2)\n",
      "(1, 3)\n",
      "(2, 0)\n",
      "(2, 1)\n",
      "(2, 2)\n",
      "(3, 3)\n"
     ]
    }
   ],
   "source": [
    "for i in range(gridSize):\n",
    "\tfor j in range(gridSize):\n",
    "\t\tupId = leftId = upCut = leftCut = upImg = leftImg = curImg = None\n",
    "\t\tcurId = grid[i][j]\n",
    "\t\tcurImg = patches[curId]\n",
    "\t\tif i != 0:\n",
    "\t\t\tupId = grid[i-1][j]\n",
    "\t\t\tupImg = patches[upId]\n",
    "\t\tif j != 0:\n",
    "\t\t\tleftId = grid[i][j-1]\n",
    "\t\t\tleftImg = patches[leftId]\n",
    "\n",
    "\t\tkey = (curId, upId, leftId)\n",
    "\n",
    "\t\tif(key in cuts.keys()):\n",
    "\t\t\tupCut, leftCut = cuts[key]\n",
    "\t\telse:\n",
    "\t\t\tprint(str((i,j)))\n",
    "\t\t\ttemp = computeMinimumBoundaryCut(curImg, borderSize, upImg=upImg,leftImg=leftImg)\n",
    "\t\t\tupCut = temp[Direction.HORIZONTAL.value][0]\n",
    "\t\t\tleftCut = temp[Direction.VERTICAL.value][0]\n",
    "\t\t\tcuts[key] = (upCut, leftCut)\n",
    "\n",
    "\t\tcanvas = applyWithMask(canvas, curImg, (i,j), borderSize, cutLeft = leftCut, cutUp=upCut)\n",
    "\n",
    "show([\"image 1\", \"image 2\", \"canvas\"], [img1, img2, canvas])"
   ]
  }
 ],
 "metadata": {
  "interpreter": {
   "hash": "9868c5b6e0ca526c7e6a4d00153652fb4847ae9eb0770cba91422c0bf7b51d41"
  },
  "kernelspec": {
   "display_name": "Python 3.9.7 64-bit (windows store)",
   "name": "python3"
  },
  "language_info": {
   "codemirror_mode": {
    "name": "ipython",
    "version": 3
   },
   "file_extension": ".py",
   "mimetype": "text/x-python",
   "name": "python",
   "nbconvert_exporter": "python",
   "pygments_lexer": "ipython3",
   "version": "3.9.7"
  },
  "orig_nbformat": 4
 },
 "nbformat": 4,
 "nbformat_minor": 2
}
