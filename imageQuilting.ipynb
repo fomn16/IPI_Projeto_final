{
 "cells": [
  {
   "cell_type": "code",
   "execution_count": 361,
   "metadata": {},
   "outputs": [],
   "source": [
    "import cv2 as cv\n",
    "from enum import Enum\n",
    "import numpy as np\n",
    "import builtins"
   ]
  },
  {
   "cell_type": "markdown",
   "metadata": {},
   "source": [
    "computeErrorSurface:\n",
    "    img1 is always on top or on left of img2."
   ]
  },
  {
   "cell_type": "code",
   "execution_count": 362,
   "metadata": {},
   "outputs": [],
   "source": [
    "class Direction(Enum):\n",
    "    VERTICAL = 0\n",
    "    HORIZONTAL = 1"
   ]
  },
  {
   "cell_type": "code",
   "execution_count": 363,
   "metadata": {},
   "outputs": [],
   "source": [
    "def computeErrorSurface(img1, img2, boundarySize: int, direction: Direction):\n",
    "    border1 = border2 = None\n",
    "    if direction == Direction.HORIZONTAL:\n",
    "        border1 = img1[-boundarySize-1:-1,:]\n",
    "        border2 = img2[0:boundarySize,:]\n",
    "    else:\n",
    "        border1 = img1[:,-boundarySize-1:-1]\n",
    "        border2 = img2[:,0:boundarySize]\n",
    "\n",
    "    diff = np.subtract(border1, border2)\n",
    "\n",
    "    squareDiff = np.square(diff)\n",
    "\n",
    "    ret = np.zeros((squareDiff.shape[0], squareDiff.shape[1]),dtype=np.uint32)\n",
    "\n",
    "    for i in range(ret.shape[0]):\n",
    "        for j in range(ret.shape[1]):\n",
    "            ret[i,j] = np.sum(squareDiff[i,j])\n",
    "\n",
    "    ret = np.sqrt(ret)\n",
    "    return cv.normalize(ret,None, alpha=0, beta=255, norm_type=cv.NORM_MINMAX, dtype=cv.CV_8U)\n"
   ]
  },
  {
   "cell_type": "code",
   "execution_count": 364,
   "metadata": {},
   "outputs": [],
   "source": [
    "def verticalNeighbors(currentPos, errorBoundary):\n",
    "\n",
    "    neighbors = []\n",
    "\n",
    "    if(currentPos[0] != errorBoundary.shape[0]):\n",
    "        neighbors.append((currentPos[0] - 1, currentPos[1]))\n",
    "        if(currentPos[1] != 0):\n",
    "            neighbors.append((currentPos[0] - 1, currentPos[1] - 1))\n",
    "        if(currentPos[1] != errorBoundary.shape[1] - 1):\n",
    "            neighbors.append((currentPos[0] - 1, currentPos[1] + 1))\n",
    "    else:\n",
    "        for i in range(errorBoundary.shape[1]):\n",
    "            neighbors.append((currentPos[0] - 1, i))\n",
    "\n",
    "    return neighbors\n",
    "\n",
    "def horizontalNeighbors(currentPos, errorBoundary):\n",
    "\n",
    "    neighbors = []\n",
    "\n",
    "    if(currentPos[1] != errorBoundary.shape[1]):\n",
    "        neighbors.append((currentPos[0], currentPos[1] - 1))\n",
    "        if(currentPos[0] != 0):\n",
    "            neighbors.append((currentPos[0] - 1, currentPos[1] - 1))\n",
    "        if(currentPos[0] != errorBoundary.shape[0] - 1):\n",
    "            neighbors.append((currentPos[0] + 1, currentPos[1] - 1))\n",
    "    else:\n",
    "        for i in range(errorBoundary.shape[0]):\n",
    "            neighbors.append((i, currentPos[1] - 1))\n",
    "\n",
    "    return neighbors"
   ]
  },
  {
   "cell_type": "code",
   "execution_count": 365,
   "metadata": {},
   "outputs": [],
   "source": [
    "# function heavily inspired by Ben Alex Keen's implementation: https://benalexkeen.com/implementing-djikstras-shortest-path-algorithm-with-python/\n",
    "def minimumBoundaryCutDjikstras(errorBoundary, direction: Direction):\n",
    "    initial = [0,0]\n",
    "    initial[direction.value] = errorBoundary.shape[direction.value]\n",
    "    initial = tuple(initial)\n",
    "    \n",
    "    neighborFunction = verticalNeighbors\n",
    "\n",
    "    if(direction == Direction.HORIZONTAL):\n",
    "        neighborFunction = horizontalNeighbors\n",
    "\n",
    "\n",
    "    print(neighborFunction.__name__)\n",
    "\n",
    "    shortestPaths = {initial: (None, 0)}\n",
    "    currentNode = initial\n",
    "    visited = set()\n",
    "    \n",
    "    while currentNode[direction.value] != 0:\n",
    "        visited.add(currentNode)\n",
    "        destinations = neighborFunction(currentNode, errorBoundary)\n",
    "        weightToCurrentNode = shortestPaths[currentNode][1]\n",
    "\n",
    "        for nextNode in destinations:\n",
    "            weight = errorBoundary[nextNode[0], nextNode[1]] + weightToCurrentNode\n",
    "            if nextNode not in shortestPaths:\n",
    "                shortestPaths[nextNode] = (currentNode, weight)\n",
    "            else:\n",
    "                currentShortestWeight = shortestPaths[nextNode][1]\n",
    "                if currentShortestWeight > weight:\n",
    "                    shortestPaths[nextNode] = (currentNode, weight)\n",
    "        \n",
    "        nextDestinations = {node: shortestPaths[node] for node in shortestPaths if node not in visited}\n",
    "        currentNode = builtins.min(nextDestinations, key=lambda k: nextDestinations[k][1])\n",
    "    \n",
    "    path = []\n",
    "    while currentNode is not None:\n",
    "        path.append(currentNode)\n",
    "        nextNode = shortestPaths[currentNode][0]\n",
    "        currentNode = nextNode\n",
    "\n",
    "    path = path[-2::-1]\n",
    "    return path"
   ]
  },
  {
   "cell_type": "code",
   "execution_count": 366,
   "metadata": {},
   "outputs": [],
   "source": [
    "def show(names, imgs, scaling = 1):\n",
    "    for i in range(len(names)):\n",
    "        cv.imshow(names[i], cv.resize(imgs[i], (imgs[i].shape[1] * scaling, imgs[i].shape[0] * scaling)))\n",
    "    cv.waitKey(0)\n",
    "    cv.destroyAllWindows()"
   ]
  },
  {
   "cell_type": "code",
   "execution_count": 367,
   "metadata": {},
   "outputs": [],
   "source": [
    "def computeMinimumBoundaryCut(img1, img2, boundarySize, direction):\n",
    "    e = computeErrorSurface(img1, img2, boundarySize, direction)\n",
    "    minBCut = minimumBoundaryCutDjikstras(e, direction)\n",
    "    return (e,minBCut)"
   ]
  },
  {
   "cell_type": "code",
   "execution_count": 368,
   "metadata": {},
   "outputs": [],
   "source": [
    "def applyWithMask(fullImg, patch, position, boundarySize, cutUp = None, cutLeft = None):\n",
    "    size = patch.shape[0] - boundarySize\n",
    "    pixelPosition = [position[0]*size, position[1]*size]\n",
    "    patchForPasting = patch.copy()\n",
    "\n",
    "    if(cutUp != None):\n",
    "        for point in cutUp:\n",
    "            patchForPasting[point[0],:point[1]] = 0\n",
    "            fullImg[pixelPosition[0] + point[0], pixelPosition[1] + point[1]:] = 0\n",
    "        \n",
    "\n",
    "    if(cutLeft != None):\n",
    "        for point in cutLeft:\n",
    "            patchForPasting[:point[0],point[1]] = 0\n",
    "            fullImg[pixelPosition[0] + point[0]:, pixelPosition[1] + point[1]] = 0\n",
    "\n",
    "    fullImg[pixelPosition[0]:pixelPosition[0] + patch.shape[0], pixelPosition[1]:pixelPosition[1] + patch.shape[1]] += patchForPasting"
   ]
  },
  {
   "cell_type": "code",
   "execution_count": 371,
   "metadata": {},
   "outputs": [
    {
     "name": "stdout",
     "output_type": "stream",
     "text": [
      "verticalNeighbors\n"
     ]
    }
   ],
   "source": [
    "img1 = cv.imread(\"img1.jpg\", cv.IMREAD_COLOR)\n",
    "img2 = cv.imread(\"img2.png\", cv.IMREAD_COLOR)\n",
    "borderSize = 50\n",
    "\n",
    "e, minBCut = computeMinimumBoundaryCut(img1, img2, borderSize, Direction.VERTICAL)\n",
    "\n",
    "minBCut3 = cv.merge((e,e,e))\n",
    "#for point in minBCut:\n",
    "minBCut3[point] = [0,255,0]\n",
    "\n",
    "cellSize = img1.shape[0] - borderSize\n",
    "canvas = np.zeros((cellSize*2 + borderSize, cellSize*2 + borderSize, 3), dtype=np.uint8)\n",
    "applyWithMask(canvas, img1, (0,0), borderSize)\n",
    "applyWithMask(canvas, img2, (0,1), borderSize, cutUp=minBCut)\n",
    "\n",
    "show([\"image 1\", \"image 2\", \"boundary error\", \"boundary cut\", \"canvas\"], [img1, img2, e, minBCut3, canvas], 2)"
   ]
  }
 ],
 "metadata": {
  "interpreter": {
   "hash": "9868c5b6e0ca526c7e6a4d00153652fb4847ae9eb0770cba91422c0bf7b51d41"
  },
  "kernelspec": {
   "display_name": "Python 3.9.7 64-bit (windows store)",
   "name": "python3"
  },
  "language_info": {
   "codemirror_mode": {
    "name": "ipython",
    "version": 3
   },
   "file_extension": ".py",
   "mimetype": "text/x-python",
   "name": "python",
   "nbconvert_exporter": "python",
   "pygments_lexer": "ipython3",
   "version": "3.9.7"
  },
  "orig_nbformat": 4
 },
 "nbformat": 4,
 "nbformat_minor": 2
}
